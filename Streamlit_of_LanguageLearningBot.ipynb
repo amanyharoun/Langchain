{
  "cells": [
    {
      "cell_type": "markdown",
      "metadata": {
        "id": "view-in-github",
        "colab_type": "text"
      },
      "source": [
        "<a href=\"https://colab.research.google.com/github/amanyharoun/Langchain/blob/main/Streamlit_of_LanguageLearningBot.ipynb\" target=\"_parent\"><img src=\"https://colab.research.google.com/assets/colab-badge.svg\" alt=\"Open In Colab\"/></a>"
      ]
    },
    {
      "cell_type": "markdown",
      "metadata": {
        "id": "i3rmZlgg0RsI"
      },
      "source": [
        "# Setting up"
      ]
    },
    {
      "cell_type": "code",
      "execution_count": null,
      "metadata": {
        "colab": {
          "base_uri": "https://localhost:8080/"
        },
        "id": "mxFhFfKzRgpi",
        "outputId": "0c491579-e48f-475c-883a-6cd2fdafb954"
      },
      "outputs": [
        {
          "output_type": "stream",
          "name": "stdout",
          "text": [
            "Requirement already satisfied: langchain==0.0.300 in /usr/local/lib/python3.10/dist-packages (0.0.300)\n",
            "Requirement already satisfied: PyYAML>=5.3 in /usr/local/lib/python3.10/dist-packages (from langchain==0.0.300) (6.0.1)\n",
            "Requirement already satisfied: SQLAlchemy<3,>=1.4 in /usr/local/lib/python3.10/dist-packages (from langchain==0.0.300) (2.0.21)\n",
            "Requirement already satisfied: aiohttp<4.0.0,>=3.8.3 in /usr/local/lib/python3.10/dist-packages (from langchain==0.0.300) (3.8.5)\n",
            "Requirement already satisfied: anyio<4.0 in /usr/local/lib/python3.10/dist-packages (from langchain==0.0.300) (3.7.1)\n",
            "Requirement already satisfied: async-timeout<5.0.0,>=4.0.0 in /usr/local/lib/python3.10/dist-packages (from langchain==0.0.300) (4.0.3)\n",
            "Requirement already satisfied: dataclasses-json<0.7,>=0.5.7 in /usr/local/lib/python3.10/dist-packages (from langchain==0.0.300) (0.5.14)\n",
            "Requirement already satisfied: jsonpatch<2.0,>=1.33 in /usr/local/lib/python3.10/dist-packages (from langchain==0.0.300) (1.33)\n",
            "Requirement already satisfied: langsmith<0.1.0,>=0.0.38 in /usr/local/lib/python3.10/dist-packages (from langchain==0.0.300) (0.0.43)\n",
            "Requirement already satisfied: numexpr<3.0.0,>=2.8.4 in /usr/local/lib/python3.10/dist-packages (from langchain==0.0.300) (2.8.7)\n",
            "Requirement already satisfied: numpy<2,>=1 in /usr/local/lib/python3.10/dist-packages (from langchain==0.0.300) (1.23.5)\n",
            "Requirement already satisfied: pydantic<3,>=1 in /usr/local/lib/python3.10/dist-packages (from langchain==0.0.300) (1.10.13)\n",
            "Requirement already satisfied: requests<3,>=2 in /usr/local/lib/python3.10/dist-packages (from langchain==0.0.300) (2.31.0)\n",
            "Requirement already satisfied: tenacity<9.0.0,>=8.1.0 in /usr/local/lib/python3.10/dist-packages (from langchain==0.0.300) (8.2.3)\n",
            "Requirement already satisfied: attrs>=17.3.0 in /usr/local/lib/python3.10/dist-packages (from aiohttp<4.0.0,>=3.8.3->langchain==0.0.300) (23.1.0)\n",
            "Requirement already satisfied: charset-normalizer<4.0,>=2.0 in /usr/local/lib/python3.10/dist-packages (from aiohttp<4.0.0,>=3.8.3->langchain==0.0.300) (3.3.0)\n",
            "Requirement already satisfied: multidict<7.0,>=4.5 in /usr/local/lib/python3.10/dist-packages (from aiohttp<4.0.0,>=3.8.3->langchain==0.0.300) (6.0.4)\n",
            "Requirement already satisfied: yarl<2.0,>=1.0 in /usr/local/lib/python3.10/dist-packages (from aiohttp<4.0.0,>=3.8.3->langchain==0.0.300) (1.9.2)\n",
            "Requirement already satisfied: frozenlist>=1.1.1 in /usr/local/lib/python3.10/dist-packages (from aiohttp<4.0.0,>=3.8.3->langchain==0.0.300) (1.4.0)\n",
            "Requirement already satisfied: aiosignal>=1.1.2 in /usr/local/lib/python3.10/dist-packages (from aiohttp<4.0.0,>=3.8.3->langchain==0.0.300) (1.3.1)\n",
            "Requirement already satisfied: idna>=2.8 in /usr/local/lib/python3.10/dist-packages (from anyio<4.0->langchain==0.0.300) (3.4)\n",
            "Requirement already satisfied: sniffio>=1.1 in /usr/local/lib/python3.10/dist-packages (from anyio<4.0->langchain==0.0.300) (1.3.0)\n",
            "Requirement already satisfied: exceptiongroup in /usr/local/lib/python3.10/dist-packages (from anyio<4.0->langchain==0.0.300) (1.1.3)\n",
            "Requirement already satisfied: marshmallow<4.0.0,>=3.18.0 in /usr/local/lib/python3.10/dist-packages (from dataclasses-json<0.7,>=0.5.7->langchain==0.0.300) (3.20.1)\n",
            "Requirement already satisfied: typing-inspect<1,>=0.4.0 in /usr/local/lib/python3.10/dist-packages (from dataclasses-json<0.7,>=0.5.7->langchain==0.0.300) (0.9.0)\n",
            "Requirement already satisfied: jsonpointer>=1.9 in /usr/local/lib/python3.10/dist-packages (from jsonpatch<2.0,>=1.33->langchain==0.0.300) (2.4)\n",
            "Requirement already satisfied: typing-extensions>=4.2.0 in /usr/local/lib/python3.10/dist-packages (from pydantic<3,>=1->langchain==0.0.300) (4.5.0)\n",
            "Requirement already satisfied: urllib3<3,>=1.21.1 in /usr/local/lib/python3.10/dist-packages (from requests<3,>=2->langchain==0.0.300) (2.0.6)\n",
            "Requirement already satisfied: certifi>=2017.4.17 in /usr/local/lib/python3.10/dist-packages (from requests<3,>=2->langchain==0.0.300) (2023.7.22)\n",
            "Requirement already satisfied: greenlet!=0.4.17 in /usr/local/lib/python3.10/dist-packages (from SQLAlchemy<3,>=1.4->langchain==0.0.300) (3.0.0)\n",
            "Requirement already satisfied: packaging>=17.0 in /usr/local/lib/python3.10/dist-packages (from marshmallow<4.0.0,>=3.18.0->dataclasses-json<0.7,>=0.5.7->langchain==0.0.300) (23.2)\n",
            "Requirement already satisfied: mypy-extensions>=0.3.0 in /usr/local/lib/python3.10/dist-packages (from typing-inspect<1,>=0.4.0->dataclasses-json<0.7,>=0.5.7->langchain==0.0.300) (1.0.0)\n",
            "Requirement already satisfied: pinecone-client in /usr/local/lib/python3.10/dist-packages (2.2.4)\n",
            "Requirement already satisfied: requests>=2.19.0 in /usr/local/lib/python3.10/dist-packages (from pinecone-client) (2.31.0)\n",
            "Requirement already satisfied: pyyaml>=5.4 in /usr/local/lib/python3.10/dist-packages (from pinecone-client) (6.0.1)\n",
            "Requirement already satisfied: loguru>=0.5.0 in /usr/local/lib/python3.10/dist-packages (from pinecone-client) (0.7.2)\n",
            "Requirement already satisfied: typing-extensions>=3.7.4 in /usr/local/lib/python3.10/dist-packages (from pinecone-client) (4.5.0)\n",
            "Requirement already satisfied: dnspython>=2.0.0 in /usr/local/lib/python3.10/dist-packages (from pinecone-client) (2.4.2)\n",
            "Requirement already satisfied: python-dateutil>=2.5.3 in /usr/local/lib/python3.10/dist-packages (from pinecone-client) (2.8.2)\n",
            "Requirement already satisfied: urllib3>=1.21.1 in /usr/local/lib/python3.10/dist-packages (from pinecone-client) (2.0.6)\n",
            "Requirement already satisfied: tqdm>=4.64.1 in /usr/local/lib/python3.10/dist-packages (from pinecone-client) (4.66.1)\n",
            "Requirement already satisfied: numpy>=1.22.0 in /usr/local/lib/python3.10/dist-packages (from pinecone-client) (1.23.5)\n",
            "Requirement already satisfied: six>=1.5 in /usr/local/lib/python3.10/dist-packages (from python-dateutil>=2.5.3->pinecone-client) (1.16.0)\n",
            "Requirement already satisfied: charset-normalizer<4,>=2 in /usr/local/lib/python3.10/dist-packages (from requests>=2.19.0->pinecone-client) (3.3.0)\n",
            "Requirement already satisfied: idna<4,>=2.5 in /usr/local/lib/python3.10/dist-packages (from requests>=2.19.0->pinecone-client) (3.4)\n",
            "Requirement already satisfied: certifi>=2017.4.17 in /usr/local/lib/python3.10/dist-packages (from requests>=2.19.0->pinecone-client) (2023.7.22)\n",
            "Requirement already satisfied: openai in /usr/local/lib/python3.10/dist-packages (0.28.1)\n",
            "Requirement already satisfied: requests>=2.20 in /usr/local/lib/python3.10/dist-packages (from openai) (2.31.0)\n",
            "Requirement already satisfied: tqdm in /usr/local/lib/python3.10/dist-packages (from openai) (4.66.1)\n",
            "Requirement already satisfied: aiohttp in /usr/local/lib/python3.10/dist-packages (from openai) (3.8.5)\n",
            "Requirement already satisfied: charset-normalizer<4,>=2 in /usr/local/lib/python3.10/dist-packages (from requests>=2.20->openai) (3.3.0)\n",
            "Requirement already satisfied: idna<4,>=2.5 in /usr/local/lib/python3.10/dist-packages (from requests>=2.20->openai) (3.4)\n",
            "Requirement already satisfied: urllib3<3,>=1.21.1 in /usr/local/lib/python3.10/dist-packages (from requests>=2.20->openai) (2.0.6)\n",
            "Requirement already satisfied: certifi>=2017.4.17 in /usr/local/lib/python3.10/dist-packages (from requests>=2.20->openai) (2023.7.22)\n",
            "Requirement already satisfied: attrs>=17.3.0 in /usr/local/lib/python3.10/dist-packages (from aiohttp->openai) (23.1.0)\n",
            "Requirement already satisfied: multidict<7.0,>=4.5 in /usr/local/lib/python3.10/dist-packages (from aiohttp->openai) (6.0.4)\n",
            "Requirement already satisfied: async-timeout<5.0,>=4.0.0a3 in /usr/local/lib/python3.10/dist-packages (from aiohttp->openai) (4.0.3)\n",
            "Requirement already satisfied: yarl<2.0,>=1.0 in /usr/local/lib/python3.10/dist-packages (from aiohttp->openai) (1.9.2)\n",
            "Requirement already satisfied: frozenlist>=1.1.1 in /usr/local/lib/python3.10/dist-packages (from aiohttp->openai) (1.4.0)\n",
            "Requirement already satisfied: aiosignal>=1.1.2 in /usr/local/lib/python3.10/dist-packages (from aiohttp->openai) (1.3.1)\n",
            "Requirement already satisfied: python-dotenv in /usr/local/lib/python3.10/dist-packages (1.0.0)\n"
          ]
        }
      ],
      "source": [
        "!pip install langchain==0.0.300\n",
        "!pip install pinecone-client\n",
        "!pip install openai\n",
        "!pip install python-dotenv"
      ]
    },
    {
      "cell_type": "code",
      "execution_count": null,
      "metadata": {
        "id": "HO2_VYRfTGWU"
      },
      "outputs": [],
      "source": [
        "from pprint import pprint"
      ]
    },
    {
      "cell_type": "code",
      "execution_count": null,
      "metadata": {
        "id": "hOiNazy2SSPL"
      },
      "outputs": [],
      "source": [
        "import os\n",
        "os.environ[\"OPENAI_API_KEY\"] = \"open_ai key\""
      ]
    },
    {
      "cell_type": "code",
      "source": [
        "from langchain.prompts import (\n",
        "    ChatPromptTemplate,\n",
        "    MessagesPlaceholder,\n",
        "    SystemMessagePromptTemplate,\n",
        "    HumanMessagePromptTemplate,\n",
        ")\n",
        "from langchain.chains import LLMChain\n",
        "from langchain.chat_models import ChatOpenAI\n",
        "from langchain.chains import ConversationChain\n",
        "from langchain.memory import ConversationBufferMemory\n",
        "\n",
        "# LLM\n",
        "llm = ChatOpenAI(model_name=\"gpt-3.5-turbo\",temperature=0.3)\n",
        "\n",
        "# Prompt\n",
        "prompt = ChatPromptTemplate(\n",
        "    messages=[\n",
        "        SystemMessagePromptTemplate.from_template(\n",
        "            \"\"\"You are a nice language practice partner or conversational companion.\n",
        "                Its purpose is to engage users in English conversation, provide language support, and assist in improving their speaking and listening skills.\n",
        "             You act as a virtual interlocutor, simulating real-life conversations and offering assistance and feedback as needed.\"\"\"\n",
        "        ),\n",
        "        # The `variable_name` here is what must align with memory\n",
        "        MessagesPlaceholder(variable_name=\"chat_history\"),\n",
        "        HumanMessagePromptTemplate.from_template(\"{question}\")\n",
        "    ]\n",
        ")\n",
        "\n",
        "# Notice that we `return_messages=True` to fit into the MessagesPlaceholder\n",
        "# Notice that `\"chat_history\"` aligns with the MessagesPlaceholder name\n",
        "memory = ConversationBufferMemory(memory_key=\"chat_history\",return_messages=True)\n",
        "conversation = LLMChain(\n",
        "    llm=llm,\n",
        "    prompt=prompt,\n",
        "    verbose=True,\n",
        "    memory=memory\n",
        ")\n",
        "\n",
        "# Notice that we just pass in the `question` variables - `chat_history` gets populated by memory\n",
        "conversation({\"question\": \"hi\"})"
      ],
      "metadata": {
        "colab": {
          "base_uri": "https://localhost:8080/"
        },
        "id": "TH5gZMv2TsRp",
        "outputId": "bef81b31-0aab-4289-b4e7-940fa2362526"
      },
      "execution_count": null,
      "outputs": [
        {
          "output_type": "stream",
          "name": "stdout",
          "text": [
            "\n",
            "\n",
            "\u001b[1m> Entering new LLMChain chain...\u001b[0m\n",
            "Prompt after formatting:\n",
            "\u001b[32;1m\u001b[1;3mSystem: You are a nice language practice partner or conversational companion.\n",
            "                Its purpose is to engage users in English conversation, provide language support, and assist in improving their speaking and listening skills.\n",
            "             You act as a virtual interlocutor, simulating real-life conversations and offering assistance and feedback as needed.\n",
            "Human: hi\u001b[0m\n",
            "\n",
            "\u001b[1m> Finished chain.\u001b[0m\n"
          ]
        },
        {
          "output_type": "execute_result",
          "data": {
            "text/plain": [
              "{'question': 'hi',\n",
              " 'chat_history': [HumanMessage(content='hi', additional_kwargs={}, example=False),\n",
              "  AIMessage(content='Hello! How can I assist you today?', additional_kwargs={}, example=False)],\n",
              " 'text': 'Hello! How can I assist you today?'}"
            ]
          },
          "metadata": {},
          "execution_count": 13
        }
      ]
    },
    {
      "cell_type": "code",
      "source": [
        "conversation({\"question\": \"Help to learn English in a resturant\"})"
      ],
      "metadata": {
        "colab": {
          "base_uri": "https://localhost:8080/"
        },
        "id": "XsCZeotUXpbX",
        "outputId": "7d0ffe94-86ce-4d39-f187-c29a65f151d9"
      },
      "execution_count": null,
      "outputs": [
        {
          "output_type": "stream",
          "name": "stdout",
          "text": [
            "\n",
            "\n",
            "\u001b[1m> Entering new LLMChain chain...\u001b[0m\n",
            "Prompt after formatting:\n",
            "\u001b[32;1m\u001b[1;3mSystem: You are a nice language practice partner or conversational companion.\n",
            "                Its purpose is to engage users in English conversation, provide language support, and assist in improving their speaking and listening skills.\n",
            "             You act as a virtual interlocutor, simulating real-life conversations and offering assistance and feedback as needed.\n",
            "Human: hi\n",
            "AI: Hello! How can I assist you today?\n",
            "Human: Help to learn English in a resturant\u001b[0m\n",
            "\n",
            "\u001b[1m> Finished chain.\u001b[0m\n"
          ]
        },
        {
          "output_type": "execute_result",
          "data": {
            "text/plain": [
              "{'question': 'Help to learn English in a resturant',\n",
              " 'chat_history': [HumanMessage(content='hi', additional_kwargs={}, example=False),\n",
              "  AIMessage(content='Hello! How can I assist you today?', additional_kwargs={}, example=False),\n",
              "  HumanMessage(content='Help to learn English in a resturant', additional_kwargs={}, example=False),\n",
              "  AIMessage(content='Of course! I\\'d be happy to help you learn English in a restaurant setting. Here are a few common phrases and expressions you can use:\\n\\n1. Greeting the server:\\n- \"Hello, how are you today?\"\\n- \"Good evening! Table for two, please.\"\\n\\n2. Ordering food:\\n- \"Could I see the menu, please?\"\\n- \"I\\'d like to order the chicken pasta, please.\"\\n- \"Can I have a glass of water, please?\"\\n\\n3. Asking for recommendations:\\n- \"What do you recommend from the menu?\"\\n- \"What\\'s the special of the day?\"\\n\\n4. Making special requests:\\n- \"Could I have my steak cooked medium, please?\"\\n- \"Can I get the dressing on the side, please?\"\\n\\n5. Asking for the bill:\\n- \"Could we have the bill, please?\"\\n- \"May I pay with a credit card?\"\\n\\nRemember to speak slowly and clearly, and don\\'t hesitate to ask the server to repeat or explain something if you don\\'t understand. Practice these phrases, and you\\'ll feel more confident when dining out in English! Is there anything specific you\\'d like to learn or practice?', additional_kwargs={}, example=False)],\n",
              " 'text': 'Of course! I\\'d be happy to help you learn English in a restaurant setting. Here are a few common phrases and expressions you can use:\\n\\n1. Greeting the server:\\n- \"Hello, how are you today?\"\\n- \"Good evening! Table for two, please.\"\\n\\n2. Ordering food:\\n- \"Could I see the menu, please?\"\\n- \"I\\'d like to order the chicken pasta, please.\"\\n- \"Can I have a glass of water, please?\"\\n\\n3. Asking for recommendations:\\n- \"What do you recommend from the menu?\"\\n- \"What\\'s the special of the day?\"\\n\\n4. Making special requests:\\n- \"Could I have my steak cooked medium, please?\"\\n- \"Can I get the dressing on the side, please?\"\\n\\n5. Asking for the bill:\\n- \"Could we have the bill, please?\"\\n- \"May I pay with a credit card?\"\\n\\nRemember to speak slowly and clearly, and don\\'t hesitate to ask the server to repeat or explain something if you don\\'t understand. Practice these phrases, and you\\'ll feel more confident when dining out in English! Is there anything specific you\\'d like to learn or practice?'}"
            ]
          },
          "metadata": {},
          "execution_count": 14
        }
      ]
    },
    {
      "cell_type": "code",
      "source": [
        "conversation({\"question\": \"Let's practice together, start a conversation and ask me for a response\"})"
      ],
      "metadata": {
        "colab": {
          "base_uri": "https://localhost:8080/"
        },
        "id": "1t4iEYGQaijl",
        "outputId": "24c05da3-afa9-425a-f77c-77fa4e2f0cfd"
      },
      "execution_count": null,
      "outputs": [
        {
          "output_type": "stream",
          "name": "stdout",
          "text": [
            "\n",
            "\n",
            "\u001b[1m> Entering new LLMChain chain...\u001b[0m\n",
            "Prompt after formatting:\n",
            "\u001b[32;1m\u001b[1;3mSystem: You are a nice language practice partner or conversational companion.\n",
            "                Its purpose is to engage users in English conversation, provide language support, and assist in improving their speaking and listening skills.\n",
            "             You act as a virtual interlocutor, simulating real-life conversations and offering assistance and feedback as needed.\n",
            "Human: hi\n",
            "AI: Hello! How can I assist you today?\n",
            "Human: Help to learn English in a resturant\n",
            "AI: Of course! I'd be happy to help you learn English in a restaurant setting. Here are a few common phrases and expressions you can use:\n",
            "\n",
            "1. Greeting the server:\n",
            "- \"Hello, how are you today?\"\n",
            "- \"Good evening! Table for two, please.\"\n",
            "\n",
            "2. Ordering food:\n",
            "- \"Could I see the menu, please?\"\n",
            "- \"I'd like to order the chicken pasta, please.\"\n",
            "- \"Can I have a glass of water, please?\"\n",
            "\n",
            "3. Asking for recommendations:\n",
            "- \"What do you recommend from the menu?\"\n",
            "- \"What's the special of the day?\"\n",
            "\n",
            "4. Making special requests:\n",
            "- \"Could I have my steak cooked medium, please?\"\n",
            "- \"Can I get the dressing on the side, please?\"\n",
            "\n",
            "5. Asking for the bill:\n",
            "- \"Could we have the bill, please?\"\n",
            "- \"May I pay with a credit card?\"\n",
            "\n",
            "Remember to speak slowly and clearly, and don't hesitate to ask the server to repeat or explain something if you don't understand. Practice these phrases, and you'll feel more confident when dining out in English! Is there anything specific you'd like to learn or practice?\n",
            "Human: Let's practice together, start a conversation and ask me for a response\u001b[0m\n",
            "\n",
            "\u001b[1m> Finished chain.\u001b[0m\n"
          ]
        },
        {
          "output_type": "execute_result",
          "data": {
            "text/plain": [
              "{'question': \"Let's practice together, start a conversation and ask me for a response\",\n",
              " 'chat_history': [HumanMessage(content='hi', additional_kwargs={}, example=False),\n",
              "  AIMessage(content='Hello! How can I assist you today?', additional_kwargs={}, example=False),\n",
              "  HumanMessage(content='Help to learn English in a resturant', additional_kwargs={}, example=False),\n",
              "  AIMessage(content='Of course! I\\'d be happy to help you learn English in a restaurant setting. Here are a few common phrases and expressions you can use:\\n\\n1. Greeting the server:\\n- \"Hello, how are you today?\"\\n- \"Good evening! Table for two, please.\"\\n\\n2. Ordering food:\\n- \"Could I see the menu, please?\"\\n- \"I\\'d like to order the chicken pasta, please.\"\\n- \"Can I have a glass of water, please?\"\\n\\n3. Asking for recommendations:\\n- \"What do you recommend from the menu?\"\\n- \"What\\'s the special of the day?\"\\n\\n4. Making special requests:\\n- \"Could I have my steak cooked medium, please?\"\\n- \"Can I get the dressing on the side, please?\"\\n\\n5. Asking for the bill:\\n- \"Could we have the bill, please?\"\\n- \"May I pay with a credit card?\"\\n\\nRemember to speak slowly and clearly, and don\\'t hesitate to ask the server to repeat or explain something if you don\\'t understand. Practice these phrases, and you\\'ll feel more confident when dining out in English! Is there anything specific you\\'d like to learn or practice?', additional_kwargs={}, example=False),\n",
              "  HumanMessage(content=\"Let's practice together, start a conversation and ask me for a response\", additional_kwargs={}, example=False),\n",
              "  AIMessage(content=\"Sure! Let's practice a conversation in a restaurant setting. Here's a scenario:\\n\\nAssistant: Good evening! Welcome to our restaurant. How many people are in your party?\\n\\nYour response: [Please provide your response.]\", additional_kwargs={}, example=False)],\n",
              " 'text': \"Sure! Let's practice a conversation in a restaurant setting. Here's a scenario:\\n\\nAssistant: Good evening! Welcome to our restaurant. How many people are in your party?\\n\\nYour response: [Please provide your response.]\"}"
            ]
          },
          "metadata": {},
          "execution_count": 15
        }
      ]
    },
    {
      "cell_type": "code",
      "source": [
        "conversation({\"question\": \"we are 4 people\"})"
      ],
      "metadata": {
        "colab": {
          "base_uri": "https://localhost:8080/"
        },
        "id": "jBsJgm_4a6Z5",
        "outputId": "c55f23bd-8e1d-4e3f-caf8-08da0bf7e276"
      },
      "execution_count": null,
      "outputs": [
        {
          "output_type": "stream",
          "name": "stdout",
          "text": [
            "\n",
            "\n",
            "\u001b[1m> Entering new LLMChain chain...\u001b[0m\n",
            "Prompt after formatting:\n",
            "\u001b[32;1m\u001b[1;3mSystem: You are a nice chatbot having a conversation with a human.\n",
            "Human: hi\n",
            "AI: Hello! How can I assist you today?\n",
            "Human: Help to learn English in a resturant\n",
            "AI: Of course! I'd be happy to help you learn English in the context of a restaurant. Here are a few common phrases and expressions that you might find useful:\n",
            "\n",
            "1. Ordering food:\n",
            "- \"I'd like to order the [dish].\"\n",
            "- \"Could I have a menu, please?\"\n",
            "- \"What do you recommend?\"\n",
            "- \"Is the [dish] spicy/mild/vegetarian?\"\n",
            "\n",
            "2. Asking for assistance:\n",
            "- \"Excuse me, could you help me with the menu?\"\n",
            "- \"Could you explain what this dish is made of?\"\n",
            "- \"Do you have any specials today?\"\n",
            "\n",
            "3. Making requests:\n",
            "- \"Could I have some water, please?\"\n",
            "- \"Can I get some extra napkins, please?\"\n",
            "- \"May I have the bill, please?\"\n",
            "\n",
            "4. Expressing satisfaction:\n",
            "- \"The food was delicious!\"\n",
            "- \"The service was excellent.\"\n",
            "- \"I really enjoyed my meal.\"\n",
            "\n",
            "Remember, practice is key when learning a new language. Don't be afraid to make mistakes and keep trying. Also, listening to English conversations in restaurants or watching videos about dining out can be helpful for improving your language skills. Let me know if you have any specific questions or if there's anything else I can assist you with!\n",
            "Human: Let's practice together, start a conversation and ask me for a response\n",
            "AI: Certainly! Let's practice a conversation in a restaurant setting. Here's a scenario:\n",
            "\n",
            "Assistant: Good evening! Welcome to our restaurant. How many people are in your party?\n",
            "\n",
            "Your response: [Please provide your response.]\n",
            "Human: we are 4 people\u001b[0m\n",
            "\n",
            "\u001b[1m> Finished chain.\u001b[0m\n"
          ]
        },
        {
          "output_type": "execute_result",
          "data": {
            "text/plain": [
              "{'question': 'we are 4 people',\n",
              " 'chat_history': [HumanMessage(content='hi', additional_kwargs={}, example=False),\n",
              "  AIMessage(content='Hello! How can I assist you today?', additional_kwargs={}, example=False),\n",
              "  HumanMessage(content='Help to learn English in a resturant', additional_kwargs={}, example=False),\n",
              "  AIMessage(content='Of course! I\\'d be happy to help you learn English in the context of a restaurant. Here are a few common phrases and expressions that you might find useful:\\n\\n1. Ordering food:\\n- \"I\\'d like to order the [dish].\"\\n- \"Could I have a menu, please?\"\\n- \"What do you recommend?\"\\n- \"Is the [dish] spicy/mild/vegetarian?\"\\n\\n2. Asking for assistance:\\n- \"Excuse me, could you help me with the menu?\"\\n- \"Could you explain what this dish is made of?\"\\n- \"Do you have any specials today?\"\\n\\n3. Making requests:\\n- \"Could I have some water, please?\"\\n- \"Can I get some extra napkins, please?\"\\n- \"May I have the bill, please?\"\\n\\n4. Expressing satisfaction:\\n- \"The food was delicious!\"\\n- \"The service was excellent.\"\\n- \"I really enjoyed my meal.\"\\n\\nRemember, practice is key when learning a new language. Don\\'t be afraid to make mistakes and keep trying. Also, listening to English conversations in restaurants or watching videos about dining out can be helpful for improving your language skills. Let me know if you have any specific questions or if there\\'s anything else I can assist you with!', additional_kwargs={}, example=False),\n",
              "  HumanMessage(content=\"Let's practice together, start a conversation and ask me for a response\", additional_kwargs={}, example=False),\n",
              "  AIMessage(content=\"Certainly! Let's practice a conversation in a restaurant setting. Here's a scenario:\\n\\nAssistant: Good evening! Welcome to our restaurant. How many people are in your party?\\n\\nYour response: [Please provide your response.]\", additional_kwargs={}, example=False),\n",
              "  HumanMessage(content='we are 4 people', additional_kwargs={}, example=False),\n",
              "  AIMessage(content='Assistant: Great! A table for four. Right this way, please. Here are your menus. \\n\\nYour response: [Please provide your response.]', additional_kwargs={}, example=False)],\n",
              " 'text': 'Assistant: Great! A table for four. Right this way, please. Here are your menus. \\n\\nYour response: [Please provide your response.]'}"
            ]
          },
          "metadata": {},
          "execution_count": 9
        }
      ]
    },
    {
      "cell_type": "code",
      "source": [
        "conversation({\"question\": \"I don't know what sould I answer in response\"})"
      ],
      "metadata": {
        "colab": {
          "base_uri": "https://localhost:8080/"
        },
        "id": "qiRYpDJFbJ_b",
        "outputId": "b820bdb3-5194-48c9-cf5f-94abbe02589f"
      },
      "execution_count": null,
      "outputs": [
        {
          "output_type": "stream",
          "name": "stdout",
          "text": [
            "\n",
            "\n",
            "\u001b[1m> Entering new LLMChain chain...\u001b[0m\n",
            "Prompt after formatting:\n",
            "\u001b[32;1m\u001b[1;3mSystem: You are a nice chatbot having a conversation with a human.\n",
            "Human: hi\n",
            "AI: Hello! How can I assist you today?\n",
            "Human: Help to learn English in a resturant\n",
            "AI: Of course! I'd be happy to help you learn English in the context of a restaurant. Here are a few common phrases and expressions that you might find useful:\n",
            "\n",
            "1. Ordering food:\n",
            "- \"I'd like to order the [dish].\"\n",
            "- \"Could I have a menu, please?\"\n",
            "- \"What do you recommend?\"\n",
            "- \"Is the [dish] spicy/mild/vegetarian?\"\n",
            "\n",
            "2. Asking for assistance:\n",
            "- \"Excuse me, could you help me with the menu?\"\n",
            "- \"Could you explain what this dish is made of?\"\n",
            "- \"Do you have any specials today?\"\n",
            "\n",
            "3. Making requests:\n",
            "- \"Could I have some water, please?\"\n",
            "- \"Can I get some extra napkins, please?\"\n",
            "- \"May I have the bill, please?\"\n",
            "\n",
            "4. Expressing satisfaction:\n",
            "- \"The food was delicious!\"\n",
            "- \"The service was excellent.\"\n",
            "- \"I really enjoyed my meal.\"\n",
            "\n",
            "Remember, practice is key when learning a new language. Don't be afraid to make mistakes and keep trying. Also, listening to English conversations in restaurants or watching videos about dining out can be helpful for improving your language skills. Let me know if you have any specific questions or if there's anything else I can assist you with!\n",
            "Human: Let's practice together, start a conversation and ask me for a response\n",
            "AI: Certainly! Let's practice a conversation in a restaurant setting. Here's a scenario:\n",
            "\n",
            "Assistant: Good evening! Welcome to our restaurant. How many people are in your party?\n",
            "\n",
            "Your response: [Please provide your response.]\n",
            "Human: we are 4 people\n",
            "AI: Assistant: Great! A table for four. Right this way, please. Here are your menus. \n",
            "\n",
            "Your response: [Please provide your response.]\n",
            "Human: I don't know what sould I answer in response\u001b[0m\n",
            "\n",
            "\u001b[1m> Finished chain.\u001b[0m\n"
          ]
        },
        {
          "output_type": "execute_result",
          "data": {
            "text/plain": [
              "{'question': \"I don't know what sould I answer in response\",\n",
              " 'chat_history': [HumanMessage(content='hi', additional_kwargs={}, example=False),\n",
              "  AIMessage(content='Hello! How can I assist you today?', additional_kwargs={}, example=False),\n",
              "  HumanMessage(content='Help to learn English in a resturant', additional_kwargs={}, example=False),\n",
              "  AIMessage(content='Of course! I\\'d be happy to help you learn English in the context of a restaurant. Here are a few common phrases and expressions that you might find useful:\\n\\n1. Ordering food:\\n- \"I\\'d like to order the [dish].\"\\n- \"Could I have a menu, please?\"\\n- \"What do you recommend?\"\\n- \"Is the [dish] spicy/mild/vegetarian?\"\\n\\n2. Asking for assistance:\\n- \"Excuse me, could you help me with the menu?\"\\n- \"Could you explain what this dish is made of?\"\\n- \"Do you have any specials today?\"\\n\\n3. Making requests:\\n- \"Could I have some water, please?\"\\n- \"Can I get some extra napkins, please?\"\\n- \"May I have the bill, please?\"\\n\\n4. Expressing satisfaction:\\n- \"The food was delicious!\"\\n- \"The service was excellent.\"\\n- \"I really enjoyed my meal.\"\\n\\nRemember, practice is key when learning a new language. Don\\'t be afraid to make mistakes and keep trying. Also, listening to English conversations in restaurants or watching videos about dining out can be helpful for improving your language skills. Let me know if you have any specific questions or if there\\'s anything else I can assist you with!', additional_kwargs={}, example=False),\n",
              "  HumanMessage(content=\"Let's practice together, start a conversation and ask me for a response\", additional_kwargs={}, example=False),\n",
              "  AIMessage(content=\"Certainly! Let's practice a conversation in a restaurant setting. Here's a scenario:\\n\\nAssistant: Good evening! Welcome to our restaurant. How many people are in your party?\\n\\nYour response: [Please provide your response.]\", additional_kwargs={}, example=False),\n",
              "  HumanMessage(content='we are 4 people', additional_kwargs={}, example=False),\n",
              "  AIMessage(content='Assistant: Great! A table for four. Right this way, please. Here are your menus. \\n\\nYour response: [Please provide your response.]', additional_kwargs={}, example=False),\n",
              "  HumanMessage(content=\"I don't know what sould I answer in response\", additional_kwargs={}, example=False),\n",
              "  AIMessage(content=\"No problem! Here's a possible response:\\n\\nYou: Thank you for seating us. Could you recommend any popular dishes on the menu?\", additional_kwargs={}, example=False)],\n",
              " 'text': \"No problem! Here's a possible response:\\n\\nYou: Thank you for seating us. Could you recommend any popular dishes on the menu?\"}"
            ]
          },
          "metadata": {},
          "execution_count": 10
        }
      ]
    },
    {
      "cell_type": "code",
      "source": [
        "conversation({\"question\": \"Could you recommend any popular dishes on the menu?\"})"
      ],
      "metadata": {
        "colab": {
          "base_uri": "https://localhost:8080/"
        },
        "id": "SXiB3bwAbY2S",
        "outputId": "2f6a1f86-d230-4fb4-aacf-29bed6107d13"
      },
      "execution_count": null,
      "outputs": [
        {
          "output_type": "stream",
          "name": "stdout",
          "text": [
            "\n",
            "\n",
            "\u001b[1m> Entering new LLMChain chain...\u001b[0m\n",
            "Prompt after formatting:\n",
            "\u001b[32;1m\u001b[1;3mSystem: You are a nice chatbot having a conversation with a human.\n",
            "Human: hi\n",
            "AI: Hello! How can I assist you today?\n",
            "Human: Help to learn English in a resturant\n",
            "AI: Of course! I'd be happy to help you learn English in the context of a restaurant. Here are a few common phrases and expressions that you might find useful:\n",
            "\n",
            "1. Ordering food:\n",
            "- \"I'd like to order the [dish].\"\n",
            "- \"Could I have a menu, please?\"\n",
            "- \"What do you recommend?\"\n",
            "- \"Is the [dish] spicy/mild/vegetarian?\"\n",
            "\n",
            "2. Asking for assistance:\n",
            "- \"Excuse me, could you help me with the menu?\"\n",
            "- \"Could you explain what this dish is made of?\"\n",
            "- \"Do you have any specials today?\"\n",
            "\n",
            "3. Making requests:\n",
            "- \"Could I have some water, please?\"\n",
            "- \"Can I get some extra napkins, please?\"\n",
            "- \"May I have the bill, please?\"\n",
            "\n",
            "4. Expressing satisfaction:\n",
            "- \"The food was delicious!\"\n",
            "- \"The service was excellent.\"\n",
            "- \"I really enjoyed my meal.\"\n",
            "\n",
            "Remember, practice is key when learning a new language. Don't be afraid to make mistakes and keep trying. Also, listening to English conversations in restaurants or watching videos about dining out can be helpful for improving your language skills. Let me know if you have any specific questions or if there's anything else I can assist you with!\n",
            "Human: Let's practice together, start a conversation and ask me for a response\n",
            "AI: Certainly! Let's practice a conversation in a restaurant setting. Here's a scenario:\n",
            "\n",
            "Assistant: Good evening! Welcome to our restaurant. How many people are in your party?\n",
            "\n",
            "Your response: [Please provide your response.]\n",
            "Human: we are 4 people\n",
            "AI: Assistant: Great! A table for four. Right this way, please. Here are your menus. \n",
            "\n",
            "Your response: [Please provide your response.]\n",
            "Human: I don't know what sould I answer in response\n",
            "AI: No problem! Here's a possible response:\n",
            "\n",
            "You: Thank you for seating us. Could you recommend any popular dishes on the menu?\n",
            "Human: Could you recommend any popular dishes on the menu?\u001b[0m\n",
            "\n",
            "\u001b[1m> Finished chain.\u001b[0m\n"
          ]
        },
        {
          "output_type": "execute_result",
          "data": {
            "text/plain": [
              "{'question': 'Could you recommend any popular dishes on the menu?',\n",
              " 'chat_history': [HumanMessage(content='hi', additional_kwargs={}, example=False),\n",
              "  AIMessage(content='Hello! How can I assist you today?', additional_kwargs={}, example=False),\n",
              "  HumanMessage(content='Help to learn English in a resturant', additional_kwargs={}, example=False),\n",
              "  AIMessage(content='Of course! I\\'d be happy to help you learn English in the context of a restaurant. Here are a few common phrases and expressions that you might find useful:\\n\\n1. Ordering food:\\n- \"I\\'d like to order the [dish].\"\\n- \"Could I have a menu, please?\"\\n- \"What do you recommend?\"\\n- \"Is the [dish] spicy/mild/vegetarian?\"\\n\\n2. Asking for assistance:\\n- \"Excuse me, could you help me with the menu?\"\\n- \"Could you explain what this dish is made of?\"\\n- \"Do you have any specials today?\"\\n\\n3. Making requests:\\n- \"Could I have some water, please?\"\\n- \"Can I get some extra napkins, please?\"\\n- \"May I have the bill, please?\"\\n\\n4. Expressing satisfaction:\\n- \"The food was delicious!\"\\n- \"The service was excellent.\"\\n- \"I really enjoyed my meal.\"\\n\\nRemember, practice is key when learning a new language. Don\\'t be afraid to make mistakes and keep trying. Also, listening to English conversations in restaurants or watching videos about dining out can be helpful for improving your language skills. Let me know if you have any specific questions or if there\\'s anything else I can assist you with!', additional_kwargs={}, example=False),\n",
              "  HumanMessage(content=\"Let's practice together, start a conversation and ask me for a response\", additional_kwargs={}, example=False),\n",
              "  AIMessage(content=\"Certainly! Let's practice a conversation in a restaurant setting. Here's a scenario:\\n\\nAssistant: Good evening! Welcome to our restaurant. How many people are in your party?\\n\\nYour response: [Please provide your response.]\", additional_kwargs={}, example=False),\n",
              "  HumanMessage(content='we are 4 people', additional_kwargs={}, example=False),\n",
              "  AIMessage(content='Assistant: Great! A table for four. Right this way, please. Here are your menus. \\n\\nYour response: [Please provide your response.]', additional_kwargs={}, example=False),\n",
              "  HumanMessage(content=\"I don't know what sould I answer in response\", additional_kwargs={}, example=False),\n",
              "  AIMessage(content=\"No problem! Here's a possible response:\\n\\nYou: Thank you for seating us. Could you recommend any popular dishes on the menu?\", additional_kwargs={}, example=False),\n",
              "  HumanMessage(content='Could you recommend any popular dishes on the menu?', additional_kwargs={}, example=False),\n",
              "  AIMessage(content=\"Assistant: Absolutely! One of our most popular dishes is the grilled salmon with lemon butter sauce. It's served with roasted vegetables and mashed potatoes. Another popular option is our signature steak with a side of garlic butter mushrooms. Both dishes are highly recommended by our customers. Is there anything specific you're in the mood for?\", additional_kwargs={}, example=False)],\n",
              " 'text': \"Assistant: Absolutely! One of our most popular dishes is the grilled salmon with lemon butter sauce. It's served with roasted vegetables and mashed potatoes. Another popular option is our signature steak with a side of garlic butter mushrooms. Both dishes are highly recommended by our customers. Is there anything specific you're in the mood for?\"}"
            ]
          },
          "metadata": {},
          "execution_count": 11
        }
      ]
    },
    {
      "cell_type": "code",
      "source": [
        "conversation({\"question\": \"I don't know some of the words, keep answers simple and explain the previous response to me\"})"
      ],
      "metadata": {
        "colab": {
          "base_uri": "https://localhost:8080/"
        },
        "id": "IY2ngjeiblQX",
        "outputId": "de921f46-ca71-418c-eee0-c2645b7a22df"
      },
      "execution_count": null,
      "outputs": [
        {
          "output_type": "stream",
          "name": "stdout",
          "text": [
            "\n",
            "\n",
            "\u001b[1m> Entering new LLMChain chain...\u001b[0m\n",
            "Prompt after formatting:\n",
            "\u001b[32;1m\u001b[1;3mSystem: You are a nice chatbot having a conversation with a human.\n",
            "Human: hi\n",
            "AI: Hello! How can I assist you today?\n",
            "Human: Help to learn English in a resturant\n",
            "AI: Of course! I'd be happy to help you learn English in the context of a restaurant. Here are a few common phrases and expressions that you might find useful:\n",
            "\n",
            "1. Ordering food:\n",
            "- \"I'd like to order the [dish].\"\n",
            "- \"Could I have a menu, please?\"\n",
            "- \"What do you recommend?\"\n",
            "- \"Is the [dish] spicy/mild/vegetarian?\"\n",
            "\n",
            "2. Asking for assistance:\n",
            "- \"Excuse me, could you help me with the menu?\"\n",
            "- \"Could you explain what this dish is made of?\"\n",
            "- \"Do you have any specials today?\"\n",
            "\n",
            "3. Making requests:\n",
            "- \"Could I have some water, please?\"\n",
            "- \"Can I get some extra napkins, please?\"\n",
            "- \"May I have the bill, please?\"\n",
            "\n",
            "4. Expressing satisfaction:\n",
            "- \"The food was delicious!\"\n",
            "- \"The service was excellent.\"\n",
            "- \"I really enjoyed my meal.\"\n",
            "\n",
            "Remember, practice is key when learning a new language. Don't be afraid to make mistakes and keep trying. Also, listening to English conversations in restaurants or watching videos about dining out can be helpful for improving your language skills. Let me know if you have any specific questions or if there's anything else I can assist you with!\n",
            "Human: Let's practice together, start a conversation and ask me for a response\n",
            "AI: Certainly! Let's practice a conversation in a restaurant setting. Here's a scenario:\n",
            "\n",
            "Assistant: Good evening! Welcome to our restaurant. How many people are in your party?\n",
            "\n",
            "Your response: [Please provide your response.]\n",
            "Human: we are 4 people\n",
            "AI: Assistant: Great! A table for four. Right this way, please. Here are your menus. \n",
            "\n",
            "Your response: [Please provide your response.]\n",
            "Human: I don't know what sould I answer in response\n",
            "AI: No problem! Here's a possible response:\n",
            "\n",
            "You: Thank you for seating us. Could you recommend any popular dishes on the menu?\n",
            "Human: Could you recommend any popular dishes on the menu?\n",
            "AI: Assistant: Absolutely! One of our most popular dishes is the grilled salmon with lemon butter sauce. It's served with roasted vegetables and mashed potatoes. Another popular option is our signature steak with a side of garlic butter mushrooms. Both dishes are highly recommended by our customers. Is there anything specific you're in the mood for?\n",
            "Human: I don't know some of the words, keep answers simple and explain the previous response to me\u001b[0m\n",
            "\n",
            "\u001b[1m> Finished chain.\u001b[0m\n"
          ]
        },
        {
          "output_type": "execute_result",
          "data": {
            "text/plain": [
              "{'question': \"I don't know some of the words, keep answers simple and explain the previous response to me\",\n",
              " 'chat_history': [HumanMessage(content='hi', additional_kwargs={}, example=False),\n",
              "  AIMessage(content='Hello! How can I assist you today?', additional_kwargs={}, example=False),\n",
              "  HumanMessage(content='Help to learn English in a resturant', additional_kwargs={}, example=False),\n",
              "  AIMessage(content='Of course! I\\'d be happy to help you learn English in the context of a restaurant. Here are a few common phrases and expressions that you might find useful:\\n\\n1. Ordering food:\\n- \"I\\'d like to order the [dish].\"\\n- \"Could I have a menu, please?\"\\n- \"What do you recommend?\"\\n- \"Is the [dish] spicy/mild/vegetarian?\"\\n\\n2. Asking for assistance:\\n- \"Excuse me, could you help me with the menu?\"\\n- \"Could you explain what this dish is made of?\"\\n- \"Do you have any specials today?\"\\n\\n3. Making requests:\\n- \"Could I have some water, please?\"\\n- \"Can I get some extra napkins, please?\"\\n- \"May I have the bill, please?\"\\n\\n4. Expressing satisfaction:\\n- \"The food was delicious!\"\\n- \"The service was excellent.\"\\n- \"I really enjoyed my meal.\"\\n\\nRemember, practice is key when learning a new language. Don\\'t be afraid to make mistakes and keep trying. Also, listening to English conversations in restaurants or watching videos about dining out can be helpful for improving your language skills. Let me know if you have any specific questions or if there\\'s anything else I can assist you with!', additional_kwargs={}, example=False),\n",
              "  HumanMessage(content=\"Let's practice together, start a conversation and ask me for a response\", additional_kwargs={}, example=False),\n",
              "  AIMessage(content=\"Certainly! Let's practice a conversation in a restaurant setting. Here's a scenario:\\n\\nAssistant: Good evening! Welcome to our restaurant. How many people are in your party?\\n\\nYour response: [Please provide your response.]\", additional_kwargs={}, example=False),\n",
              "  HumanMessage(content='we are 4 people', additional_kwargs={}, example=False),\n",
              "  AIMessage(content='Assistant: Great! A table for four. Right this way, please. Here are your menus. \\n\\nYour response: [Please provide your response.]', additional_kwargs={}, example=False),\n",
              "  HumanMessage(content=\"I don't know what sould I answer in response\", additional_kwargs={}, example=False),\n",
              "  AIMessage(content=\"No problem! Here's a possible response:\\n\\nYou: Thank you for seating us. Could you recommend any popular dishes on the menu?\", additional_kwargs={}, example=False),\n",
              "  HumanMessage(content='Could you recommend any popular dishes on the menu?', additional_kwargs={}, example=False),\n",
              "  AIMessage(content=\"Assistant: Absolutely! One of our most popular dishes is the grilled salmon with lemon butter sauce. It's served with roasted vegetables and mashed potatoes. Another popular option is our signature steak with a side of garlic butter mushrooms. Both dishes are highly recommended by our customers. Is there anything specific you're in the mood for?\", additional_kwargs={}, example=False),\n",
              "  HumanMessage(content=\"I don't know some of the words, keep answers simple and explain the previous response to me\", additional_kwargs={}, example=False),\n",
              "  AIMessage(content=\"Certainly! I apologize for any confusion. Here's a simpler response with explanations:\\n\\nYou: Can you suggest any dishes that many people like from the menu?\\n\\nAssistant: Of course! One dish that many people enjoy is the grilled salmon. It's cooked on a grill and served with a sauce made from lemon and butter. It comes with roasted vegetables, which are vegetables that have been cooked in an oven, and mashed potatoes, which are potatoes that have been boiled and mashed. Another popular option is our signature steak, which is a type of meat that is cooked to your preference. It's served with mushrooms that have been cooked in butter with garlic. These dishes are highly recommended by our customers. Is there anything specific you're in the mood for?\", additional_kwargs={}, example=False)],\n",
              " 'text': \"Certainly! I apologize for any confusion. Here's a simpler response with explanations:\\n\\nYou: Can you suggest any dishes that many people like from the menu?\\n\\nAssistant: Of course! One dish that many people enjoy is the grilled salmon. It's cooked on a grill and served with a sauce made from lemon and butter. It comes with roasted vegetables, which are vegetables that have been cooked in an oven, and mashed potatoes, which are potatoes that have been boiled and mashed. Another popular option is our signature steak, which is a type of meat that is cooked to your preference. It's served with mushrooms that have been cooked in butter with garlic. These dishes are highly recommended by our customers. Is there anything specific you're in the mood for?\"}"
            ]
          },
          "metadata": {},
          "execution_count": 12
        }
      ]
    },
    {
      "cell_type": "code",
      "source": [],
      "metadata": {
        "id": "vhbI6SPmb4Z2"
      },
      "execution_count": null,
      "outputs": []
    }
  ],
  "metadata": {
    "colab": {
      "provenance": [],
      "include_colab_link": true
    },
    "kernelspec": {
      "display_name": "Python 3",
      "name": "python3"
    },
    "language_info": {
      "name": "python"
    }
  },
  "nbformat": 4,
  "nbformat_minor": 0
}